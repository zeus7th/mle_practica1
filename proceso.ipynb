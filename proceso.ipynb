{
 "cells": [
  {
   "cell_type": "code",
   "execution_count": 1,
   "metadata": {},
   "outputs": [],
   "source": [
    "import re \n",
    "from nltk.tokenize import word_tokenize \n",
    "from nltk.corpus import stopwords\n",
    "from nltk.stem import PorterStemmer, WordNetLemmatizer\n",
    "import pandas as pd"
   ]
  },
  {
   "cell_type": "markdown",
   "metadata": {},
   "source": [
    "# Procesamiento"
   ]
  },
  {
   "cell_type": "code",
   "execution_count": 2,
   "metadata": {},
   "outputs": [],
   "source": [
    "text='This tweet includes  4 mentions to users in the format @username, #hashtags in the format #hashtag, emojis such as 👋, 😌, 😎, 🎉, 😊, URLs like https://example.com/barbecue-recipe, and common punctuation characters like exclamation marks, question marks, and colons.'"
   ]
  },
  {
   "cell_type": "code",
   "execution_count": 3,
   "metadata": {},
   "outputs": [
    {
     "data": {
      "text/plain": [
       "'This tweet includes  4 mentions to users in the format @username, #hashtags in the format #hashtag, emojis such as 👋, 😌, 😎, 🎉, 😊, URLs like https://example.com/barbecue-recipe, and common punctuation characters like exclamation marks, question marks, and colons.'"
      ]
     },
     "execution_count": 3,
     "metadata": {},
     "output_type": "execute_result"
    }
   ],
   "source": [
    "text"
   ]
  },
  {
   "cell_type": "code",
   "execution_count": 6,
   "metadata": {},
   "outputs": [
    {
     "name": "stderr",
     "output_type": "stream",
     "text": [
      "[nltk_data] Downloading package stopwords to\n",
      "[nltk_data]     C:\\Users\\jcama\\AppData\\Roaming\\nltk_data...\n",
      "[nltk_data]   Unzipping corpora\\stopwords.zip.\n"
     ]
    },
    {
     "data": {
      "text/plain": [
       "True"
      ]
     },
     "execution_count": 6,
     "metadata": {},
     "output_type": "execute_result"
    }
   ],
   "source": [
    "import nltk\n",
    "nltk.download('stopwords')"
   ]
  },
  {
   "cell_type": "markdown",
   "metadata": {},
   "source": [
    "#### Stop Word Removal"
   ]
  },
  {
   "cell_type": "code",
   "execution_count": 10,
   "metadata": {},
   "outputs": [
    {
     "data": {
      "text/plain": [
       "['tweet',\n",
       " 'includes',\n",
       " '4',\n",
       " 'mentions',\n",
       " 'users',\n",
       " 'format',\n",
       " '@username,',\n",
       " '#hashtags',\n",
       " 'format',\n",
       " '#hashtag,',\n",
       " 'emojis',\n",
       " '👋,',\n",
       " '😌,',\n",
       " '😎,',\n",
       " '🎉,',\n",
       " '😊,',\n",
       " 'URLs',\n",
       " 'like',\n",
       " 'https://example.com/barbecue-recipe,',\n",
       " 'common',\n",
       " 'punctuation',\n",
       " 'characters',\n",
       " 'like',\n",
       " 'exclamation',\n",
       " 'marks,',\n",
       " 'question',\n",
       " 'marks,',\n",
       " 'colons.']"
      ]
     },
     "execution_count": 10,
     "metadata": {},
     "output_type": "execute_result"
    }
   ],
   "source": [
    "stop_words = set(stopwords.words('english'))\n",
    "[word for word in text.split() if word.lower() not in stop_words]"
   ]
  },
  {
   "cell_type": "markdown",
   "metadata": {},
   "source": [
    "####  Character word removal"
   ]
  },
  {
   "cell_type": "code",
   "execution_count": 11,
   "metadata": {},
   "outputs": [
    {
     "data": {
      "text/plain": [
       "'This tweet includes  4 mentions to users in the format username hashtags in the format hashtag emojis such as      URLs like httpsexamplecombarbecuerecipe and common punctuation characters like exclamation marks question marks and colons'"
      ]
     },
     "execution_count": 11,
     "metadata": {},
     "output_type": "execute_result"
    }
   ],
   "source": [
    "re.sub(r'[^\\w\\s]', '', text)"
   ]
  },
  {
   "cell_type": "markdown",
   "metadata": {},
   "source": [
    "#### Lowercase"
   ]
  },
  {
   "cell_type": "code",
   "execution_count": 12,
   "metadata": {},
   "outputs": [
    {
     "name": "stdout",
     "output_type": "stream",
     "text": [
      "this\n",
      "tweet\n",
      "includes\n",
      "4\n",
      "mentions\n",
      "to\n",
      "users\n",
      "in\n",
      "the\n",
      "format\n",
      "@username,\n",
      "#hashtags\n",
      "in\n",
      "the\n",
      "format\n",
      "#hashtag,\n",
      "emojis\n",
      "such\n",
      "as\n",
      "👋,\n",
      "😌,\n",
      "😎,\n",
      "🎉,\n",
      "😊,\n",
      "urls\n",
      "like\n",
      "https://example.com/barbecue-recipe,\n",
      "and\n",
      "common\n",
      "punctuation\n",
      "characters\n",
      "like\n",
      "exclamation\n",
      "marks,\n",
      "question\n",
      "marks,\n",
      "and\n",
      "colons.\n"
     ]
    }
   ],
   "source": [
    "for i in text.split() :\n",
    "    print(i.lower())\n"
   ]
  },
  {
   "cell_type": "markdown",
   "metadata": {},
   "source": [
    "#### Emoji Removal"
   ]
  },
  {
   "cell_type": "code",
   "execution_count": 13,
   "metadata": {},
   "outputs": [],
   "source": [
    "emoji_pattern = re.compile(\"[\"u\"\\U0001F600-\\U0001F64F\"  # emoticons\n",
    "                              u\"\\U0001F300-\\U0001F5FF\"  # symbols & pictographs\n",
    "                              u\"\\U0001F680-\\U0001F6FF\"  # transport & map symbols\n",
    "                              u\"\\U0001F1E0-\\U0001F1FF\"  \"]+\", flags=re.UNICODE)\n"
   ]
  },
  {
   "cell_type": "code",
   "execution_count": 14,
   "metadata": {},
   "outputs": [
    {
     "data": {
      "text/plain": [
       "'This tweet includes  4 mentions to users in the format @username, #hashtags in the format #hashtag, emojis such as , , , , , URLs like https://example.com/barbecue-recipe, and common punctuation characters like exclamation marks, question marks, and colons.'"
      ]
     },
     "execution_count": 14,
     "metadata": {},
     "output_type": "execute_result"
    }
   ],
   "source": [
    "emoji_pattern.sub(r'', text)"
   ]
  },
  {
   "cell_type": "markdown",
   "metadata": {},
   "source": [
    "#### Space removal"
   ]
  },
  {
   "cell_type": "code",
   "execution_count": 15,
   "metadata": {},
   "outputs": [
    {
     "data": {
      "text/plain": [
       "'This tweet includes 4 mentions to users in the format @username, #hashtags in the format #hashtag, emojis such as 👋, 😌, 😎, 🎉, 😊, URLs like https://example.com/barbecue-recipe, and common punctuation characters like exclamation marks, question marks, and colons.'"
      ]
     },
     "execution_count": 15,
     "metadata": {},
     "output_type": "execute_result"
    }
   ],
   "source": [
    "re.sub(r'\\s+', ' ', text).strip()"
   ]
  },
  {
   "cell_type": "markdown",
   "metadata": {},
   "source": [
    "#### Number removal"
   ]
  },
  {
   "cell_type": "code",
   "execution_count": 16,
   "metadata": {},
   "outputs": [
    {
     "data": {
      "text/plain": [
       "'This tweet includes   mentions to users in the format @username, #hashtags in the format #hashtag, emojis such as 👋, 😌, 😎, 🎉, 😊, URLs like https://example.com/barbecue-recipe, and common punctuation characters like exclamation marks, question marks, and colons.'"
      ]
     },
     "execution_count": 16,
     "metadata": {},
     "output_type": "execute_result"
    }
   ],
   "source": [
    "re.sub(r'\\d+', '', text)"
   ]
  },
  {
   "cell_type": "markdown",
   "metadata": {},
   "source": [
    "#### User Removal"
   ]
  },
  {
   "cell_type": "code",
   "execution_count": 17,
   "metadata": {},
   "outputs": [
    {
     "data": {
      "text/plain": [
       "'This tweet includes  4 mentions to users in the format  #hashtags in the format #hashtag, emojis such as 👋, 😌, 😎, 🎉, 😊, URLs like https://example.com/barbecue-recipe, and common punctuation characters like exclamation marks, question marks, and colons.'"
      ]
     },
     "execution_count": 17,
     "metadata": {},
     "output_type": "execute_result"
    }
   ],
   "source": [
    "re.sub(r'@\\S+', '', text)"
   ]
  },
  {
   "cell_type": "markdown",
   "metadata": {},
   "source": [
    "#### Hashtag Removal"
   ]
  },
  {
   "cell_type": "code",
   "execution_count": 18,
   "metadata": {},
   "outputs": [
    {
     "data": {
      "text/plain": [
       "'This tweet includes  4 mentions to users in the format @username,  in the format  emojis such as 👋, 😌, 😎, 🎉, 😊, URLs like https://example.com/barbecue-recipe, and common punctuation characters like exclamation marks, question marks, and colons.'"
      ]
     },
     "execution_count": 18,
     "metadata": {},
     "output_type": "execute_result"
    }
   ],
   "source": [
    "re.sub(r'#\\S+', '', text)"
   ]
  },
  {
   "cell_type": "markdown",
   "metadata": {},
   "source": [
    "#### Link Removal"
   ]
  },
  {
   "cell_type": "code",
   "execution_count": 19,
   "metadata": {},
   "outputs": [
    {
     "data": {
      "text/plain": [
       "'This tweet includes  4 mentions to users in the format @username, #hashtags in the format #hashtag, emojis such as 👋, 😌, 😎, 🎉, 😊, URLs like  and common punctuation characters like exclamation marks, question marks, and colons.'"
      ]
     },
     "execution_count": 19,
     "metadata": {},
     "output_type": "execute_result"
    }
   ],
   "source": [
    "re.sub(r'http\\S+', '', text)"
   ]
  },
  {
   "cell_type": "markdown",
   "metadata": {},
   "source": [
    "# Unit testing"
   ]
  },
  {
   "cell_type": "code",
   "execution_count": 20,
   "metadata": {},
   "outputs": [],
   "source": [
    "def convert_to_lowercase(text):\n",
    "    if isinstance(text,str): \n",
    "        return text.lower()\n",
    "\n",
    "def test_convert_to_lowercase(text,expected):\n",
    "    assert convert_to_lowercase(text)==expected\n"
   ]
  },
  {
   "cell_type": "code",
   "execution_count": 21,
   "metadata": {},
   "outputs": [],
   "source": [
    "text='HOLA ME GUSTAN LOS CHOCOLATES'\n",
    "assert convert_to_lowercase(text)=='hola me gustan los chocolates'"
   ]
  },
  {
   "cell_type": "code",
   "execution_count": 22,
   "metadata": {},
   "outputs": [],
   "source": [
    "from text_preprocessor import TextPreprocessor"
   ]
  },
  {
   "cell_type": "code",
   "execution_count": 25,
   "metadata": {},
   "outputs": [],
   "source": [
    "df=pd.read_csv('C:/Clases DMC/CLASES DMC/tweets.csv')\n",
    "df['content'] = df['content'].astype(str)"
   ]
  },
  {
   "cell_type": "code",
   "execution_count": 26,
   "metadata": {},
   "outputs": [],
   "source": [
    "preprocessor = TextPreprocessor(remove_links=True, \n",
    "                                remove_hastags=True,\n",
    "                                remove_characters=True, \n",
    "                                convert_to_lowercase=True, \n",
    "                                remove_emojis=True,\n",
    "                                remove_numbers=True,\n",
    "                                remove_stopwords_flag= True)\n",
    "\n",
    "df['content_2'] = df['content'].apply(preprocessor.preprocess_text)"
   ]
  },
  {
   "cell_type": "code",
   "execution_count": 27,
   "metadata": {},
   "outputs": [
    {
     "data": {
      "text/html": [
       "<div>\n",
       "<style scoped>\n",
       "    .dataframe tbody tr th:only-of-type {\n",
       "        vertical-align: middle;\n",
       "    }\n",
       "\n",
       "    .dataframe tbody tr th {\n",
       "        vertical-align: top;\n",
       "    }\n",
       "\n",
       "    .dataframe thead th {\n",
       "        text-align: right;\n",
       "    }\n",
       "</style>\n",
       "<table border=\"1\" class=\"dataframe\">\n",
       "  <thead>\n",
       "    <tr style=\"text-align: right;\">\n",
       "      <th></th>\n",
       "      <th>author</th>\n",
       "      <th>content</th>\n",
       "      <th>content_2</th>\n",
       "    </tr>\n",
       "  </thead>\n",
       "  <tbody>\n",
       "    <tr>\n",
       "      <th>0</th>\n",
       "      <td>katyperry</td>\n",
       "      <td>Is history repeating itself...?#DONTNORMALIZEH...</td>\n",
       "      <td>history repeating</td>\n",
       "    </tr>\n",
       "    <tr>\n",
       "      <th>1</th>\n",
       "      <td>katyperry</td>\n",
       "      <td>@barackobama Thank you for your incredible gra...</td>\n",
       "      <td>barackobama thank incredible grace leadership ...</td>\n",
       "    </tr>\n",
       "    <tr>\n",
       "      <th>2</th>\n",
       "      <td>katyperry</td>\n",
       "      <td>Life goals. https://t.co/XIn1qKMKQl</td>\n",
       "      <td>life goals</td>\n",
       "    </tr>\n",
       "    <tr>\n",
       "      <th>3</th>\n",
       "      <td>katyperry</td>\n",
       "      <td>Me right now 🙏🏻 https://t.co/gW55C1wrwd</td>\n",
       "      <td>right</td>\n",
       "    </tr>\n",
       "    <tr>\n",
       "      <th>4</th>\n",
       "      <td>katyperry</td>\n",
       "      <td>SISTERS ARE DOIN' IT FOR THEMSELVES! 🙌🏻💪🏻❤️ ht...</td>\n",
       "      <td>sisters doin</td>\n",
       "    </tr>\n",
       "    <tr>\n",
       "      <th>...</th>\n",
       "      <td>...</td>\n",
       "      <td>...</td>\n",
       "      <td>...</td>\n",
       "    </tr>\n",
       "    <tr>\n",
       "      <th>52537</th>\n",
       "      <td>ddlovato</td>\n",
       "      <td>Life couldn't be better right now. 😊</td>\n",
       "      <td>life couldnt better right</td>\n",
       "    </tr>\n",
       "    <tr>\n",
       "      <th>52538</th>\n",
       "      <td>ddlovato</td>\n",
       "      <td>First Monday back in action. I'd say 21.6 mile...</td>\n",
       "      <td>first monday back action id say  miles success</td>\n",
       "    </tr>\n",
       "    <tr>\n",
       "      <th>52539</th>\n",
       "      <td>ddlovato</td>\n",
       "      <td>Crime shows, buddy, snuggles = the perfect Sun...</td>\n",
       "      <td>crime shows buddy snuggles perfect sunday night</td>\n",
       "    </tr>\n",
       "    <tr>\n",
       "      <th>52540</th>\n",
       "      <td>ddlovato</td>\n",
       "      <td>❄️ http://t.co/sHCFdPpGPa</td>\n",
       "      <td></td>\n",
       "    </tr>\n",
       "    <tr>\n",
       "      <th>52541</th>\n",
       "      <td>ddlovato</td>\n",
       "      <td>❤️❄️✈️ http://t.co/ixmB5lv17Z</td>\n",
       "      <td></td>\n",
       "    </tr>\n",
       "  </tbody>\n",
       "</table>\n",
       "<p>52542 rows × 3 columns</p>\n",
       "</div>"
      ],
      "text/plain": [
       "          author                                            content  \\\n",
       "0      katyperry  Is history repeating itself...?#DONTNORMALIZEH...   \n",
       "1      katyperry  @barackobama Thank you for your incredible gra...   \n",
       "2      katyperry                Life goals. https://t.co/XIn1qKMKQl   \n",
       "3      katyperry            Me right now 🙏🏻 https://t.co/gW55C1wrwd   \n",
       "4      katyperry  SISTERS ARE DOIN' IT FOR THEMSELVES! 🙌🏻💪🏻❤️ ht...   \n",
       "...          ...                                                ...   \n",
       "52537   ddlovato               Life couldn't be better right now. 😊   \n",
       "52538   ddlovato  First Monday back in action. I'd say 21.6 mile...   \n",
       "52539   ddlovato  Crime shows, buddy, snuggles = the perfect Sun...   \n",
       "52540   ddlovato                          ❄️ http://t.co/sHCFdPpGPa   \n",
       "52541   ddlovato                      ❤️❄️✈️ http://t.co/ixmB5lv17Z   \n",
       "\n",
       "                                               content_2  \n",
       "0                                      history repeating  \n",
       "1      barackobama thank incredible grace leadership ...  \n",
       "2                                             life goals  \n",
       "3                                                  right  \n",
       "4                                           sisters doin  \n",
       "...                                                  ...  \n",
       "52537                          life couldnt better right  \n",
       "52538     first monday back action id say  miles success  \n",
       "52539    crime shows buddy snuggles perfect sunday night  \n",
       "52540                                                     \n",
       "52541                                                     \n",
       "\n",
       "[52542 rows x 3 columns]"
      ]
     },
     "execution_count": 27,
     "metadata": {},
     "output_type": "execute_result"
    }
   ],
   "source": [
    "df[['author','content','content_2']]"
   ]
  },
  {
   "cell_type": "code",
   "execution_count": 29,
   "metadata": {},
   "outputs": [
    {
     "data": {
      "text/plain": [
       "'😀-🙏: Este rango representa emoticonos. Incluye emojis como caras sonrientes, guiños, gestos faciales, entre otros.\\n🌀-🗿: Aquí se incluyen símbolos y pictogramas que van desde símbolos matemáticos hasta iconos meteorológicos y demás elementos gráficos.\\n🚀-\\U0001f6ff: Este rango abarca símbolos de transporte y mapas, como aviones, cohetes, vehículos, señales de tráfico, entre otros.\\n\\U0001f1e0-🇿: Estos son los códigos correspondientes a las banderas, específicamente las banderas que se utilizan en dispositivos iOS.'"
      ]
     },
     "execution_count": 29,
     "metadata": {},
     "output_type": "execute_result"
    }
   ],
   "source": [
    "\"\"\"\\U0001F600-\\U0001F64F: Este rango representa emoticonos. Incluye emojis como caras sonrientes, guiños, gestos faciales, entre otros.\n",
    "\\U0001F300-\\U0001F5FF: Aquí se incluyen símbolos y pictogramas que van desde símbolos matemáticos hasta iconos meteorológicos y demás elementos gráficos.\n",
    "\\U0001F680-\\U0001F6FF: Este rango abarca símbolos de transporte y mapas, como aviones, cohetes, vehículos, señales de tráfico, entre otros.\n",
    "\\U0001F1E0-\\U0001F1FF: Estos son los códigos correspondientes a las banderas, específicamente las banderas que se utilizan en dispositivos iOS.\"\"\""
   ]
  },
  {
   "cell_type": "markdown",
   "metadata": {},
   "source": [
    "\n",
    "\n",
    "\n",
    "\n",
    "\n",
    "\n",
    "\n",
    "\n",
    "\n",
    "\n",
    "\n",
    "\n",
    "\n",
    "\n",
    "\n",
    "\n",
    "\n",
    "\n",
    "\n",
    "\n",
    "\n",
    "\n",
    "\n",
    "\n",
    "\n",
    "\n",
    "\n",
    "\n",
    "\n",
    "\n",
    "\n",
    "\n",
    "\n",
    "\n",
    "\n",
    "\n",
    "\n",
    "\n",
    "\n",
    "\n",
    "\n",
    "\n",
    "\n",
    "\n",
    "\n",
    "\n",
    "\n",
    "\n",
    "\n",
    "\n",
    "\n",
    "\n",
    "\n",
    "\n",
    "\n",
    "\n",
    "\n",
    "\n",
    "\n",
    "\n",
    "\n",
    "\n",
    "\n",
    "\n",
    "\n",
    "\n",
    "\n",
    "\n",
    "\n",
    "\n",
    "\n",
    "\n",
    "\n"
   ]
  },
  {
   "cell_type": "code",
   "execution_count": null,
   "metadata": {},
   "outputs": [],
   "source": []
  }
 ],
 "metadata": {
  "kernelspec": {
   "display_name": "modulo1",
   "language": "python",
   "name": "python3"
  },
  "language_info": {
   "codemirror_mode": {
    "name": "ipython",
    "version": 3
   },
   "file_extension": ".py",
   "mimetype": "text/x-python",
   "name": "python",
   "nbconvert_exporter": "python",
   "pygments_lexer": "ipython3",
   "version": "3.12.1"
  }
 },
 "nbformat": 4,
 "nbformat_minor": 2
}
